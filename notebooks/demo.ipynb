{
 "cells": [
  {
   "cell_type": "code",
   "execution_count": null,
   "metadata": {
    "vscode": {
     "languageId": "plaintext"
    }
   },
   "outputs": [],
   "source": [
    "# notebooks/demo.ipynb\n",
    "\n",
    "from pyspark.sql import SparkSession\n",
    "from src.data.generator import DataGenerator\n",
    "from src.data.loader import DataLoader\n",
    "from src.model.gmm import ScalableGMM, GMMConfig\n",
    "from src.utils.metrics import MetricsCollector\n",
    "from src.utils.validation import DataValidator\n",
    "\n",
    "# Initialize Spark\n",
    "spark = SparkSession.builder \\\n",
    "    .appName(\"GMM_Demo\") \\\n",
    "    .config(\"spark.executor.memory\", \"8g\") \\\n",
    "    .config(\"spark.driver.memory\", \"4g\") \\\n",
    "    .getOrCreate()\n",
    "\n",
    "# Initialize components\n",
    "metrics = MetricsCollector()\n",
    "validator = DataValidator()\n",
    "loader = DataLoader(spark)\n",
    "\n",
    "# Generate scaled data\n",
    "generator = DataGenerator(spark, \"gs://your-bucket/data/Credit.csv\")\n",
    "metrics.start_operation()\n",
    "generator.generate_scaled_data(\"gs://your-bucket/data/scaled_data\")\n",
    "generation_metrics = metrics.end_operation(1_000_000_000, \n",
    "                                         memory_used=spark.sparkContext.statusTracker().getExecutorInfos()[0].memoryUsed,\n",
    "                                         accuracy=1.0)\n",
    "print(f\"Data generation metrics: {generation_metrics}\")\n",
    "\n",
    "# Train and transform\n",
    "gmm = ScalableGMM(GMMConfig())\n",
    "data = loader.load_parquet(\"gs://your-bucket/data/scaled_data\")\n",
    "metrics.start_operation()\n",
    "gmm.fit(data)\n",
    "training_metrics = metrics.end_operation(data.count(),\n",
    "                                       memory_used=spark.sparkContext.statusTracker().getExecutorInfos()[0].memoryUsed,\n",
    "                                       accuracy=validator.validate_distribution(original_data, \n",
    "                                                                            transformed_data)[1])\n",
    "print(f\"Training metrics: {training_metrics}\")\n",
    "\n",
    "# Get overall performance summary\n",
    "print(f\"Performance summary: {metrics.get_summary()}\")"
   ]
  }
 ],
 "metadata": {
  "language_info": {
   "name": "python"
  }
 },
 "nbformat": 4,
 "nbformat_minor": 2
}
